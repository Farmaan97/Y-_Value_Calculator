{
 "cells": [
  {
   "cell_type": "code",
   "execution_count": 44,
   "id": "7d8b0f78-25a2-4489-8024-53e9f8d4baff",
   "metadata": {},
   "outputs": [
    {
     "name": "stdout",
     "output_type": "stream",
     "text": [
      "Y+ Value Calculation\n",
      "\n",
      "Given Data:-\n"
     ]
    },
    {
     "name": "stdin",
     "output_type": "stream",
     "text": [
      "Initial Velocity (m/s):  1\n",
      "Density (kg/m3):  1.225\n",
      "Length (m):  1\n",
      "Dynamic Viscosity (kg/ms):  1.81e-05\n",
      "Y plus value (no unit):  1\n"
     ]
    },
    {
     "name": "stdout",
     "output_type": "stream",
     "text": [
      "\n",
      "Results:-\n",
      "Reynolds Number (no unit):\t67679.558\n",
      "First Layer Thickness (m):\t0.0127424\n",
      "First Layer Thickness (mm):\t12.7424\n"
     ]
    }
   ],
   "source": [
    "from math import*\n",
    "#y+ value calculation\n",
    "print(\"Y+ Value Calculation\\n\")\n",
    "\n",
    "#Given Data:\n",
    "print(\"Given Data:-\")\n",
    "Uinf = float(input(\"Initial Velocity (m/s): \")) #Initial Velocity\n",
    "rho = float(input(\"Density (kg/m3): \"))   #Density\n",
    "L = float(input(\"Length (m): \"))  #Length of the boy\n",
    "Mu = float(input(\"Dynamic Viscosity (kg/ms): \")) #Dynamic Viscosity\n",
    "yP = float(input(\"Y plus value (no unit): \")) #Y plus value\n",
    "\n",
    "print(\"\\nResults:-\")\n",
    "\n",
    "#Reynolds Number (Re_x) = (rho.Uinf.L)/Mu\n",
    "Re_x = (rho*Uinf*L)/Mu\n",
    "print(f\"Reynolds Number (no unit):\\t{round(Re_x,3)}\")\n",
    "#Skin Friction Coefficient (Cf) = 0.026/(Re_x)^1/7\n",
    "Cf = 0.026/(Re_x**1/7)\n",
    "#Wall shear stress (Twall) = (Cf.rho.Uinf^2)/2\n",
    "Tw = (Cf*rho*(Uinf**2))/2\n",
    "#Friction Velocity (Uf) = (Twall/rho)^0.5\n",
    "Uf = sqrt(Tw/rho)\n",
    "#First Layer Thickness (DelS) = (y+.Mu)/(Uf.rho)\n",
    "delS = (yP*Mu)/(Uf*rho)\n",
    "print(f\"First Layer Thickness (m):\\t{round(delS,7)}\")\n",
    "print(f\"First Layer Thickness (mm):\\t{round(delS*1000,4)}\")"
   ]
  },
  {
   "cell_type": "code",
   "execution_count": null,
   "id": "3839bd38-3d29-4467-a4c0-a19146f2d4c5",
   "metadata": {},
   "outputs": [],
   "source": []
  }
 ],
 "metadata": {
  "kernelspec": {
   "display_name": "Python 3 (ipykernel)",
   "language": "python",
   "name": "python3"
  },
  "language_info": {
   "codemirror_mode": {
    "name": "ipython",
    "version": 3
   },
   "file_extension": ".py",
   "mimetype": "text/x-python",
   "name": "python",
   "nbconvert_exporter": "python",
   "pygments_lexer": "ipython3",
   "version": "3.10.9"
  }
 },
 "nbformat": 4,
 "nbformat_minor": 5
}
